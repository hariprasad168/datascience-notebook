{
 "cells": [
  {
   "cell_type": "markdown",
   "id": "de17d1ec",
   "metadata": {},
   "source": [
    "<h1>Data Science Tools and Ecosystem</h1>"
   ]
  },
  {
   "cell_type": "markdown",
   "id": "33eea6f5",
   "metadata": {},
   "source": [
    "In this notebook, Data Science Tools and Ecosystem are summarized."
   ]
  },
  {
   "cell_type": "markdown",
   "id": "a3a1e3ec",
   "metadata": {},
   "source": [
    "-  List popular languages that Data Scientists use\n",
    "-  List commonly used libraries used by Data Scientists.\n",
    "-  Data Science Tools"
   ]
  },
  {
   "attachments": {},
   "cell_type": "markdown",
   "id": "afd9d860",
   "metadata": {},
   "source": [
    "Some of the popular languages that Data Scientists use are:\n",
    "1. Python\n",
    "1. R\n",
    "1. Scala\n",
    "1. JavaScript\n",
    "1. Java"
   ]
  },
  {
   "cell_type": "markdown",
   "id": "afba19d0",
   "metadata": {},
   "source": [
    "Some of the commonly used libraries used by Data Scientists include:\n",
    "1. Pandas\n",
    "1. Matplotlib\n",
    "1. Scikit Learn\n",
    "1. TensorFlow\n",
    "1. PyTorch\n",
    "1. Keras\n",
    "2. Seaborn"
   ]
  },
  {
   "cell_type": "markdown",
   "id": "e2b849c1",
   "metadata": {},
   "source": [
    "| Data Science Tools |\n",
    "| :- |\n",
    "| Jupyter Notebook |\n",
    "| RStudio |\n",
    "| Apache Spark |"
   ]
  },
  {
   "cell_type": "markdown",
   "id": "b318ca93",
   "metadata": {},
   "source": [
    "<H3>Below are a few examples of evaluating arithmetic expressions in Python</H3>"
   ]
  },
  {
   "cell_type": "code",
   "execution_count": 1,
   "id": "539a6b9b",
   "metadata": {},
   "outputs": [
    {
     "name": "stdout",
     "output_type": "stream",
     "text": [
      "17\n"
     ]
    }
   ],
   "source": [
    "#This a simple arithmetic expression to mutiply then add integers\n",
    "print((3*4)+5)"
   ]
  },
  {
   "cell_type": "code",
   "execution_count": 6,
   "id": "972ba4d5",
   "metadata": {},
   "outputs": [
    {
     "name": "stdout",
     "output_type": "stream",
     "text": [
      "3.3333333333333335 hours\n"
     ]
    }
   ],
   "source": [
    "#This will convert 200 minutes to hours by diving by 60\n",
    "min = 200\n",
    "hours = min/60\n",
    "print(str(hours) + \" hours\")"
   ]
  },
  {
   "cell_type": "markdown",
   "id": "a53909b4",
   "metadata": {},
   "source": [
    "<H2>Author</H2>\n",
    "Hari Prasad G"
   ]
  },
  {
   "cell_type": "code",
   "execution_count": null,
   "id": "43bba8e5",
   "metadata": {},
   "outputs": [],
   "source": []
  }
 ],
 "metadata": {
  "kernelspec": {
   "display_name": "Python 3 (ipykernel)",
   "language": "python",
   "name": "python3"
  },
  "language_info": {
   "codemirror_mode": {
    "name": "ipython",
    "version": 3
   },
   "file_extension": ".py",
   "mimetype": "text/x-python",
   "name": "python",
   "nbconvert_exporter": "python",
   "pygments_lexer": "ipython3",
   "version": "3.10.10"
  }
 },
 "nbformat": 4,
 "nbformat_minor": 5
}
